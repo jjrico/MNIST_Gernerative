{
  "nbformat": 4,
  "nbformat_minor": 0,
  "metadata": {
    "accelerator": "GPU",
    "colab": {
      "name": "MNIST_Numbers_Generative.ipynb",
      "provenance": [],
      "collapsed_sections": [],
      "toc_visible": true
    },
    "kernelspec": {
      "display_name": "Python 3",
      "name": "python3"
    }
  },
  "cells": [
    {
      "cell_type": "markdown",
      "metadata": {
        "id": "3wF5wszaj97Y"
      },
      "source": [
        "# FNN for MNIST Generation\n",
        "### By: Jeremy Rico\n",
        "### UNIQUIFY\n",
        "\n",
        "This program uses a fully-connected neural network to generate handwritten\n",
        "digits based on the MNIST dataset. "
      ]
    },
    {
      "cell_type": "markdown",
      "metadata": {
        "id": "QS7DDTiZGRTo"
      },
      "source": [
        "### Import libraries"
      ]
    },
    {
      "cell_type": "code",
      "metadata": {
        "id": "0trJmd6DjqBZ"
      },
      "source": [
        "%matplotlib inline\n",
        "import numpy as np\n",
        "import matplotlib.pyplot as plt\n",
        "import tensorflow as tf\n",
        "from tensorflow.keras.models import Sequential\n",
        "from tensorflow.keras.layers import Dense, Flatten, Conv2D, Dropout\n",
        "from tensorflow.keras import Model"
      ],
      "execution_count": 162,
      "outputs": []
    },
    {
      "cell_type": "markdown",
      "metadata": {
        "id": "7NAbSZiaoJ4z"
      },
      "source": [
        "### Load Data\n",
        "\n"
      ]
    },
    {
      "cell_type": "code",
      "metadata": {
        "id": "JqFRS6K07jJs",
        "outputId": "810455a6-08ab-4710-e319-e5243d5ef59a",
        "colab": {
          "base_uri": "https://localhost:8080/",
          "height": 104
        }
      },
      "source": [
        "# Load dataset\n",
        "mnist = tf.keras.datasets.mnist\n",
        "\n",
        "# Split into train and test \n",
        "(y_train, x_train_old), (y_test, x_test_old) = mnist.load_data()\n",
        "\n",
        "# Convert single digit label to one-hot vectors\n",
        "x_train = np.zeros([x_train_old.shape[0], 10])\n",
        "for i in range(len(x_train_old)):\n",
        "    temp = np.zeros(10)\n",
        "    temp[x_train_old[i]] = 1\n",
        "    x_train[i] = temp\n",
        "\n",
        "x_test = np.zeros([x_test_old.shape[0], 10])\n",
        "for i in range(len(x_test_old)):\n",
        "    temp = np.zeros(10)\n",
        "    temp[x_test_old[i]] = 1\n",
        "    x_test[i] = temp\n",
        "\n",
        "# Reshape y\n",
        "y_train = np.reshape(y_train, (y_train.shape[0], 784))\n",
        "y_test = np.reshape(y_test, (y_test.shape[0], 784))\n",
        "\n",
        "# Regularize label data\n",
        "y_train, y_test = y_train.astype(\"float32\") / 255.0, y_test.astype(\"float32\") / 255.0\n",
        "\n",
        "print(\"Data shapes: \")\n",
        "print(\"X_train:\", x_train.shape)\n",
        "print(\"Y_train:\", y_train.shape)\n",
        "print(\"X_test: \", x_test.shape)\n",
        "print(\"Y_test: \", y_test.shape)\n"
      ],
      "execution_count": 163,
      "outputs": [
        {
          "output_type": "stream",
          "text": [
            "Data shapes: \n",
            "X_train: (60000, 10)\n",
            "Y_train: (60000, 784)\n",
            "X_test:  (10000, 10)\n",
            "Y_test:  (10000, 784)\n"
          ],
          "name": "stdout"
        }
      ]
    },
    {
      "cell_type": "markdown",
      "metadata": {
        "id": "on3HPmmK9rn7"
      },
      "source": [
        "### Shuffle and split data"
      ]
    },
    {
      "cell_type": "code",
      "metadata": {
        "id": "8Iu_quO024c2"
      },
      "source": [
        "# Shuffle and split the data into batches\n",
        "train_ds = tf.data.Dataset.from_tensor_slices((x_train, y_train)).shuffle(10000).batch(32)\n",
        "test_ds = tf.data.Dataset.from_tensor_slices((x_test, y_test)).batch(32)"
      ],
      "execution_count": 164,
      "outputs": []
    },
    {
      "cell_type": "markdown",
      "metadata": {
        "id": "n6BhJTfK9wSU"
      },
      "source": [
        "### Class definition"
      ]
    },
    {
      "cell_type": "code",
      "metadata": {
        "id": "h3IKyzTCDNGo"
      },
      "source": [
        "# Creation of sequential model\n",
        "class MyModel(Model):\n",
        "\n",
        "  # initializer\n",
        "  def __init__(self):\n",
        "    super(MyModel, self).__init__()\n",
        "    self.d = Dense(10)\n",
        "    self.d0 = Dense(128, activation='relu')\n",
        "    self.d1 = Dense(265, activation='relu')\n",
        "    #self.drop = Dropout(0.10)\n",
        "    self.d2 = Dense(784)\n",
        "\n",
        "  def call(self, x):\n",
        "    #x = self.f1(x)\n",
        "    x = self.d(x)\n",
        "    x = self.d0(x)\n",
        "    x = self.d1(x)\n",
        "    #x = self.drop(x)\n",
        "    return self.d2(x)\n",
        "\n",
        "# Create an instance of the model\n",
        "model = MyModel()"
      ],
      "execution_count": 165,
      "outputs": []
    },
    {
      "cell_type": "markdown",
      "metadata": {
        "id": "uGih-c2LgbJu"
      },
      "source": [
        "### Define metrics"
      ]
    },
    {
      "cell_type": "code",
      "metadata": {
        "id": "u48C9WQ774n4"
      },
      "source": [
        "# define loss and optimizer\n",
        "loss_object = tf.keras.losses.MeanAbsoluteError()\n",
        "optimizer = tf.keras.optimizers.Adam()"
      ],
      "execution_count": 166,
      "outputs": []
    },
    {
      "cell_type": "code",
      "metadata": {
        "id": "N0MqHFb4F_qn"
      },
      "source": [
        "# select accuracy and loss metrics\n",
        "train_loss = tf.keras.metrics.Mean(name='train_loss')\n",
        "train_accuracy = tf.keras.metrics.Accuracy(name='train_accuracy')\n",
        "\n",
        "test_loss = tf.keras.metrics.Mean(name='test_loss')\n",
        "test_accuracy = tf.keras.metrics.Accuracy(name='test_accuracy')\n",
        "\n",
        "tf.keras.backend.set_floatx('float64')"
      ],
      "execution_count": 167,
      "outputs": []
    },
    {
      "cell_type": "markdown",
      "metadata": {
        "id": "qIMDC8Ag-CDf"
      },
      "source": [
        "### Training step function"
      ]
    },
    {
      "cell_type": "code",
      "metadata": {
        "id": "OZACiVqA8KQV"
      },
      "source": [
        "# Create function to train model using gradient tape\n",
        "@tf.function\n",
        "def train_step(images, labels):\n",
        "  with tf.GradientTape() as tape:\n",
        "    #training=True \n",
        "    predictions = model(images, training=True)\n",
        "    loss = loss_object(labels, predictions)\n",
        "  gradients = tape.gradient(loss, model.trainable_variables)\n",
        "  optimizer.apply_gradients(zip(gradients, model.trainable_variables))\n",
        "\n",
        "  train_loss(loss)\n",
        "  train_accuracy(labels, predictions)"
      ],
      "execution_count": 168,
      "outputs": []
    },
    {
      "cell_type": "markdown",
      "metadata": {
        "id": "ke9Wbe4b-FMF"
      },
      "source": [
        "### Test step function"
      ]
    },
    {
      "cell_type": "code",
      "metadata": {
        "id": "xIKdEzHAJGt7"
      },
      "source": [
        "# Create funtion to test the model\n",
        "@tf.function\n",
        "def test_step(images, labels):\n",
        "  #training=False\n",
        "  predictions = model(images, training=False)\n",
        "  t_loss = loss_object(labels, predictions)\n",
        "\n",
        "  test_loss(t_loss)\n",
        "  test_accuracy(labels, predictions)"
      ],
      "execution_count": 169,
      "outputs": []
    },
    {
      "cell_type": "markdown",
      "metadata": {
        "id": "LKGNTf1o-HVy"
      },
      "source": [
        "### Model training"
      ]
    },
    {
      "cell_type": "code",
      "metadata": {
        "id": "i-2pkctU_Ci7",
        "outputId": "b951e162-22f5-4a57-842f-9ac0e7bf9186",
        "colab": {
          "base_uri": "https://localhost:8080/",
          "height": 364
        }
      },
      "source": [
        "# Define epochs\n",
        "EPOCHS = 20\n",
        "# history is used to store metrics while the model is trained\n",
        "history = {'train_acc': [], 'train_loss': [], 'test_acc': [], 'test_loss': []}\n",
        "\n",
        "# Train and fit the model\n",
        "for epoch in range(EPOCHS):\n",
        "  # Reset metrics for each epoch\n",
        "  train_loss.reset_states()\n",
        "  train_accuracy.reset_states()\n",
        "  test_loss.reset_states()\n",
        "  test_accuracy.reset_states()\n",
        "\n",
        "  # call train function\n",
        "  for images, labels in train_ds:\n",
        "    train_step(images, labels)\n",
        "\n",
        "  # call test function\n",
        "  for test_images, test_labels in test_ds:\n",
        "    test_step(test_images, test_labels)\n",
        "\n",
        "  # print metrics\n",
        "  print(\n",
        "    f'Epoch {epoch + 1}, '\n",
        "    f'Loss: {train_loss.result()}, '\n",
        "    f'Accuracy: {train_accuracy.result()}, '\n",
        "    f'Test Loss: {test_loss.result()}, '\n",
        "    f'Test Accuracy: {test_accuracy.result()}'\n",
        "  )\n",
        "  \n",
        "  # store metrics in history\n",
        "  history['train_loss'].append(train_loss.result())\n",
        "  history['train_acc'].append(train_accuracy.result())\n",
        "  history['test_loss'].append(test_loss.result())\n",
        "  history['test_acc'].append(test_accuracy.result())"
      ],
      "execution_count": 170,
      "outputs": [
        {
          "output_type": "stream",
          "text": [
            "Epoch 1, Loss: 0.10490527796347936, Accuracy: 0.0, Test Loss: 0.10280253776250936, Test Accuracy: 0.0\n",
            "Epoch 2, Loss: 0.10305526003837585, Accuracy: 0.0, Test Loss: 0.1026083512808949, Test Accuracy: 0.0\n",
            "Epoch 3, Loss: 0.10287953089872996, Accuracy: 0.0, Test Loss: 0.10241466658279157, Test Accuracy: 0.0\n",
            "Epoch 4, Loss: 0.10279673494895299, Accuracy: 0.0, Test Loss: 0.10217605747829991, Test Accuracy: 0.0\n",
            "Epoch 5, Loss: 0.10269811323881149, Accuracy: 0.0, Test Loss: 0.10235035914582566, Test Accuracy: 0.0\n",
            "Epoch 6, Loss: 0.10263709829250972, Accuracy: 0.0, Test Loss: 0.10215306729554369, Test Accuracy: 0.0\n",
            "Epoch 7, Loss: 0.10258270216782887, Accuracy: 0.0, Test Loss: 0.10197155479901134, Test Accuracy: 0.0\n",
            "Epoch 8, Loss: 0.10252329893112183, Accuracy: 0.0, Test Loss: 0.10203708013216146, Test Accuracy: 0.0\n",
            "Epoch 9, Loss: 0.10249995017051697, Accuracy: 0.0, Test Loss: 0.10208541504776897, Test Accuracy: 0.0\n",
            "Epoch 10, Loss: 0.10246906431118648, Accuracy: 0.0, Test Loss: 0.10201712074085546, Test Accuracy: 0.0\n",
            "Epoch 11, Loss: 0.10243866227467854, Accuracy: 0.0, Test Loss: 0.1019609569551084, Test Accuracy: 0.0\n",
            "Epoch 12, Loss: 0.10242107870181402, Accuracy: 0.0, Test Loss: 0.10193980399507303, Test Accuracy: 0.0\n",
            "Epoch 13, Loss: 0.10240464987357457, Accuracy: 0.0, Test Loss: 0.1018739128693605, Test Accuracy: 0.0\n",
            "Epoch 14, Loss: 0.10238770264784496, Accuracy: 0.0, Test Loss: 0.10189759762237628, Test Accuracy: 0.0\n",
            "Epoch 15, Loss: 0.10236727561553319, Accuracy: 0.0, Test Loss: 0.10192952145593234, Test Accuracy: 0.0\n",
            "Epoch 16, Loss: 0.1023589742620786, Accuracy: 0.0, Test Loss: 0.10186915261486468, Test Accuracy: 0.0\n",
            "Epoch 17, Loss: 0.1023421092470487, Accuracy: 0.0, Test Loss: 0.1018185366552097, Test Accuracy: 0.0\n",
            "Epoch 18, Loss: 0.1023347692489624, Accuracy: 0.0, Test Loss: 0.1019181020486469, Test Accuracy: 0.0\n",
            "Epoch 19, Loss: 0.10232503660917282, Accuracy: 0.0, Test Loss: 0.10183438304038094, Test Accuracy: 0.0\n",
            "Epoch 20, Loss: 0.10231326621373495, Accuracy: 0.0, Test Loss: 0.10183855998344696, Test Accuracy: 0.0\n"
          ],
          "name": "stdout"
        }
      ]
    },
    {
      "cell_type": "markdown",
      "metadata": {
        "id": "B2n_0vh6-KYn"
      },
      "source": [
        "### Results"
      ]
    },
    {
      "cell_type": "code",
      "metadata": {
        "id": "P59d1N0SCg9d",
        "outputId": "310bc6aa-6ae4-4dca-9899-0f177fc6c586",
        "colab": {
          "base_uri": "https://localhost:8080/",
          "height": 86
        }
      },
      "source": [
        "print(\"Training accuracy after %d epochs: %f%%\" % (EPOCHS, history['train_acc'][-1] * 100))\n",
        "print(\"Test accuracy after %d epochs: %f%%\" % (EPOCHS, history['test_acc'][-1] * 100))\n",
        "print(\"Training loss after %d epochs: %f%%\" % (EPOCHS, history['train_loss'][-1]))\n",
        "print(\"Test loss after %d epochs: %f%%\" % (EPOCHS, history['test_loss'][-1]))"
      ],
      "execution_count": 171,
      "outputs": [
        {
          "output_type": "stream",
          "text": [
            "Training accuracy after 20 epochs: 0.000000%\n",
            "Test accuracy after 20 epochs: 0.000000%\n",
            "Training loss after 20 epochs: 0.102313%\n",
            "Test loss after 20 epochs: 0.101839%\n"
          ],
          "name": "stdout"
        }
      ]
    },
    {
      "cell_type": "code",
      "metadata": {
        "id": "1mxLJk2n1B6H",
        "outputId": "b79a4afc-5185-4125-c29e-e932d93495c5",
        "colab": {
          "base_uri": "https://localhost:8080/",
          "height": 573
        }
      },
      "source": [
        "# Plot training accuracy & loss values\n",
        "plt.plot(range(EPOCHS), history['train_acc'])\n",
        "plt.plot(range(EPOCHS), history['test_acc'])\n",
        "plt.title('Model accuracy')\n",
        "plt.ylabel('Accuracy')\n",
        "plt.xlabel('Epoch')\n",
        "plt.legend(['Train', 'Test'], loc='upper left')\n",
        "plt.show()\n",
        "\n",
        "# Plot test accuracy and loss values\n",
        "plt.plot(range(EPOCHS), history['train_loss'])\n",
        "plt.plot(range(EPOCHS), history['test_loss'])\n",
        "plt.title('Model loss')\n",
        "plt.ylabel('Loss')\n",
        "plt.xlabel('Epoch')\n",
        "plt.legend(['Train', 'Test'], loc='upper left')\n",
        "plt.show()"
      ],
      "execution_count": 172,
      "outputs": [
        {
          "output_type": "display_data",
          "data": {
            "image/png": "[encoded data removed]",
            "text/plain": [
              "<Figure size 432x288 with 1 Axes>"
            ]
          },
          "metadata": {
            "tags": [],
            "needs_background": "light"
          }
        },
        {
          "output_type": "display_data",
          "data": {
            "image/png": "[encoded data removed]",
            "text/plain": [
              "<Figure size 432x288 with 1 Axes>"
            ]
          },
          "metadata": {
            "tags": [],
            "needs_background": "light"
          }
        }
      ]
    },
    {
      "cell_type": "markdown",
      "metadata": {
        "id": "SlnaoRKISnGa"
      },
      "source": [
        "### Display generated digits"
      ]
    },
    {
      "cell_type": "code",
      "metadata": {
        "id": "258aNPg9CYtC",
        "outputId": "a5a9aeb4-4f45-4f3c-f6cd-de652c52cd1f",
        "colab": {
          "base_uri": "https://localhost:8080/",
          "height": 1000
        }
      },
      "source": [
        "# create one hot vector for each digit 0-9\n",
        "x = np.zeros([10, 10])\n",
        "for i in range(len(x[0])):\n",
        "  x[i][i] = 1\n",
        "\n",
        "# use trained model to infer\n",
        "infer = model(x) * 255.0 # reverse normaliztion\n",
        "infer = np.reshape(infer, (infer.shape[0], 28, 28))\n",
        "\n",
        "# print result images\n",
        "for i in range(len(infer)):\n",
        "  plt.imshow(infer[i], cmap='gray', vmin=0, vmax=255)\n",
        "  plt.title(str(i))\n",
        "  plt.show()\n",
        "\n",
        "plt.show()"
      ],
      "execution_count": 173,
      "outputs": [
        {
          "output_type": "display_data",
          "data": {
            "image/png": "[encoded data removed]",
            "text/plain": [
              "<Figure size 432x288 with 1 Axes>"
            ]
          },
          "metadata": {
            "tags": [],
            "needs_background": "light"
          }
        },
        {
          "output_type": "display_data",
          "data": {
            "image/png": "[encoded data removed]",
            "text/plain": [
              "<Figure size 432x288 with 1 Axes>"
            ]
          },
          "metadata": {
            "tags": [],
            "needs_background": "light"
          }
        },
        {
          "output_type": "display_data",
          "data": {
            "image/png": "[encoded data removed]",
            "text/plain": [
              "<Figure size 432x288 with 1 Axes>"
            ]
          },
          "metadata": {
            "tags": [],
            "needs_background": "light"
          }
        },
        {
          "output_type": "display_data",
          "data": {
            "image/png": "[encoded data removed]",
            "text/plain": [
              "<Figure size 432x288 with 1 Axes>"
            ]
          },
          "metadata": {
            "tags": [],
            "needs_background": "light"
          }
        },
        {
          "output_type": "display_data",
          "data": {
            "image/png": "[encoded data removed]",
            "text/plain": [
              "<Figure size 432x288 with 1 Axes>"
            ]
          },
          "metadata": {
            "tags": [],
            "needs_background": "light"
          }
        },
        {
          "output_type": "display_data",
          "data": {
            "image/png": "[encoded data removed]",
            "text/plain": [
              "<Figure size 432x288 with 1 Axes>"
            ]
          },
          "metadata": {
            "tags": [],
            "needs_background": "light"
          }
        },
        {
          "output_type": "display_data",
          "data": {
            "image/png": "[encoded data removed]",
            "text/plain": [
              "<Figure size 432x288 with 1 Axes>"
            ]
          },
          "metadata": {
            "tags": [],
            "needs_background": "light"
          }
        },
        {
          "output_type": "display_data",
          "data": {
            "image/png": "[encoded data removed]",
            "text/plain": [
              "<Figure size 432x288 with 1 Axes>"
            ]
          },
          "metadata": {
            "tags": [],
            "needs_background": "light"
          }
        },
        {
          "output_type": "display_data",
          "data": {
            "image/png": "[encoded data removed]",
            "text/plain": [
              "<Figure size 432x288 with 1 Axes>"
            ]
          },
          "metadata": {
            "tags": [],
            "needs_background": "light"
          }
        },
        {
          "output_type": "display_data",
          "data": {
            "image/png": "[encoded data removed]",
            "text/plain": [
              "<Figure size 432x288 with 1 Axes>"
            ]
          },
          "metadata": {
            "tags": [],
            "needs_background": "light"
          }
        }
      ]
    },
    {
      "cell_type": "code",
      "metadata": {
        "id": "3E5NhMZGsaIc"
      },
      "source": [
        ""
      ],
      "execution_count": 173,
      "outputs": []
    }
  ]
}